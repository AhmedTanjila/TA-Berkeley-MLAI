{
 "cells": [
  {
   "cell_type": "markdown",
   "metadata": {
    "id": "CcUT6Fon_qRE"
   },
   "source": [
    "### Required Assignment 5.1: Will the Customer Accept the Coupon?\n",
    "\n",
    "**Context**\n",
    "\n",
    "Imagine driving through town and a coupon is delivered to your cell phone for a restaurant near where you are driving. Would you accept that coupon and take a short detour to the restaurant? Would you accept the coupon but use it on a subsequent trip? Would you ignore the coupon entirely? What if the coupon was for a bar instead of a restaurant? What about a coffee house? Would you accept a bar coupon with a minor passenger in the car? What about if it was just you and your partner in the car? Would weather impact the rate of acceptance? What about the time of day?\n",
    "\n",
    "Obviously, proximity to the business is a factor on whether the coupon is delivered to the driver or not, but what are the factors that determine whether a driver accepts the coupon once it is delivered to them? How would you determine whether a driver is likely to accept a coupon?\n",
    "\n",
    "**Overview**\n",
    "\n",
    "The goal of this project is to use what you know about visualizations and probability distributions to distinguish between customers who accepted a driving coupon versus those that did not.\n",
    "\n",
    "**Data**\n",
    "\n",
    "This data comes to us from the UCI Machine Learning repository and was collected via a survey on Amazon Mechanical Turk. The survey describes different driving scenarios including the destination, current time, weather, passenger, etc., and then ask the person whether he will accept the coupon if he is the driver. Answers that the user will drive there ‘right away’ or ‘later before the coupon expires’ are labeled as ‘Y = 1’ and answers ‘no, I do not want the coupon’ are labeled as ‘Y = 0’.  There are five different types of coupons -- less expensive restaurants (under \\$20), coffee houses, carry out & take away, bar, and more expensive restaurants (\\$20 - $50)."
   ]
  },
  {
   "cell_type": "markdown",
   "metadata": {
    "id": "1wORvMBJ_qRF"
   },
   "source": [
    "**Deliverables**\n",
    "\n",
    "Your final product should be a brief report that highlights the differences between customers who did and did not accept the coupons.  To explore the data you will utilize your knowledge of plotting, statistical summaries, and visualization using Python. You will publish your findings in a public facing github repository as your first portfolio piece.\n",
    "\n",
    "\n",
    "\n"
   ]
  },
  {
   "cell_type": "markdown",
   "metadata": {
    "id": "pG6_Ym6q_qRG"
   },
   "source": [
    "### Data Description\n",
    "Keep in mind that these values mentioned below are average values.\n",
    "\n",
    "The attributes of this data set include:\n",
    "1. User attributes\n",
    "    -  Gender: male, female\n",
    "    -  Age: below 21, 21 to 25, 26 to 30, etc.\n",
    "    -  Marital Status: single, married partner, unmarried partner, or widowed\n",
    "    -  Number of children: 0, 1, or more than 1\n",
    "    -  Education: high school, bachelors degree, associates degree, or graduate degree\n",
    "    -  Occupation: architecture & engineering, business & financial, etc.\n",
    "    -  Annual income: less than \\\\$12500, \\\\$12500 - \\\\$24999, \\\\$25000 - \\\\$37499, etc.\n",
    "    -  Number of times that he/she goes to a bar: 0, less than 1, 1 to 3, 4 to 8 or greater than 8\n",
    "    -  Number of times that he/she buys takeaway food: 0, less than 1, 1 to 3, 4 to 8 or greater\n",
    "    than 8\n",
    "    -  Number of times that he/she goes to a coffee house: 0, less than 1, 1 to 3, 4 to 8 or\n",
    "    greater than 8\n",
    "    -  Number of times that he/she eats at a restaurant with average expense less than \\\\$20 per\n",
    "    person: 0, less than 1, 1 to 3, 4 to 8 or greater than 8\n",
    "    -  Number of times that he/she goes to a bar: 0, less than 1, 1 to 3, 4 to 8 or greater than 8\n",
    "    \n",
    "\n",
    "2. Contextual attributes\n",
    "    - Driving destination: home, work, or no urgent destination\n",
    "    - Location of user, coupon and destination: we provide a map to show the geographical\n",
    "    location of the user, destination, and the venue, and we mark the distance between each\n",
    "    two places with time of driving. The user can see whether the venue is in the same\n",
    "    direction as the destination.\n",
    "    - Weather: sunny, rainy, or snowy\n",
    "    - Temperature: 30F, 55F, or 80F\n",
    "    - Time: 10AM, 2PM, or 6PM\n",
    "    - Passenger: alone, partner, kid(s), or friend(s)\n",
    "\n",
    "\n",
    "3. Coupon attributes\n",
    "    - time before it expires: 2 hours or one day"
   ]
  },
  {
   "cell_type": "code",
   "execution_count": 1,
   "metadata": {
    "id": "dzNoP3o__qRG"
   },
   "outputs": [],
   "source": [
    "import matplotlib.pyplot as plt\n",
    "import seaborn as sns\n",
    "import pandas as pd\n",
    "import numpy as np"
   ]
  },
  {
   "cell_type": "markdown",
   "metadata": {
    "id": "Ct8pI1uE_qRG"
   },
   "source": [
    "### Problems\n",
    "\n",
    "Use the prompts below to get started with your data analysis.  \n",
    "\n",
    "1. Read in the `coupons.csv` file.\n",
    "\n",
    "\n"
   ]
  },
  {
   "cell_type": "code",
   "execution_count": 2,
   "metadata": {
    "id": "X0vbffYg_qRH"
   },
   "outputs": [],
   "source": [
    "df = pd.read_csv('data/coupons.csv')"
   ]
  },
  {
   "cell_type": "code",
   "execution_count": 475,
   "metadata": {
    "id": "TXofQ_DF_qRH",
    "outputId": "2fc96a2c-1112-4b54-f24f-dbb9bc88abfb"
   },
   "outputs": [
    {
     "data": {
      "text/html": [
       "<div>\n",
       "<style scoped>\n",
       "    .dataframe tbody tr th:only-of-type {\n",
       "        vertical-align: middle;\n",
       "    }\n",
       "\n",
       "    .dataframe tbody tr th {\n",
       "        vertical-align: top;\n",
       "    }\n",
       "\n",
       "    .dataframe thead th {\n",
       "        text-align: right;\n",
       "    }\n",
       "</style>\n",
       "<table border=\"1\" class=\"dataframe\">\n",
       "  <thead>\n",
       "    <tr style=\"text-align: right;\">\n",
       "      <th></th>\n",
       "      <th>destination</th>\n",
       "      <th>passanger</th>\n",
       "      <th>weather</th>\n",
       "      <th>temperature</th>\n",
       "      <th>time</th>\n",
       "      <th>coupon</th>\n",
       "      <th>expiration</th>\n",
       "      <th>gender</th>\n",
       "      <th>age</th>\n",
       "      <th>maritalStatus</th>\n",
       "      <th>...</th>\n",
       "      <th>CoffeeHouse</th>\n",
       "      <th>CarryAway</th>\n",
       "      <th>RestaurantLessThan20</th>\n",
       "      <th>Restaurant20To50</th>\n",
       "      <th>toCoupon_GEQ5min</th>\n",
       "      <th>toCoupon_GEQ15min</th>\n",
       "      <th>toCoupon_GEQ25min</th>\n",
       "      <th>direction_same</th>\n",
       "      <th>direction_opp</th>\n",
       "      <th>Y</th>\n",
       "    </tr>\n",
       "  </thead>\n",
       "  <tbody>\n",
       "    <tr>\n",
       "      <th>0</th>\n",
       "      <td>No Urgent Place</td>\n",
       "      <td>Alone</td>\n",
       "      <td>Sunny</td>\n",
       "      <td>55</td>\n",
       "      <td>2PM</td>\n",
       "      <td>Restaurant(&lt;20)</td>\n",
       "      <td>1d</td>\n",
       "      <td>Female</td>\n",
       "      <td>21</td>\n",
       "      <td>Unmarried partner</td>\n",
       "      <td>...</td>\n",
       "      <td>never</td>\n",
       "      <td>NaN</td>\n",
       "      <td>4~8</td>\n",
       "      <td>1~3</td>\n",
       "      <td>1</td>\n",
       "      <td>0</td>\n",
       "      <td>0</td>\n",
       "      <td>0</td>\n",
       "      <td>1</td>\n",
       "      <td>1</td>\n",
       "    </tr>\n",
       "    <tr>\n",
       "      <th>1</th>\n",
       "      <td>No Urgent Place</td>\n",
       "      <td>Friend(s)</td>\n",
       "      <td>Sunny</td>\n",
       "      <td>80</td>\n",
       "      <td>10AM</td>\n",
       "      <td>Coffee House</td>\n",
       "      <td>2h</td>\n",
       "      <td>Female</td>\n",
       "      <td>21</td>\n",
       "      <td>Unmarried partner</td>\n",
       "      <td>...</td>\n",
       "      <td>never</td>\n",
       "      <td>NaN</td>\n",
       "      <td>4~8</td>\n",
       "      <td>1~3</td>\n",
       "      <td>1</td>\n",
       "      <td>0</td>\n",
       "      <td>0</td>\n",
       "      <td>0</td>\n",
       "      <td>1</td>\n",
       "      <td>0</td>\n",
       "    </tr>\n",
       "    <tr>\n",
       "      <th>2</th>\n",
       "      <td>No Urgent Place</td>\n",
       "      <td>Friend(s)</td>\n",
       "      <td>Sunny</td>\n",
       "      <td>80</td>\n",
       "      <td>10AM</td>\n",
       "      <td>Carry out &amp; Take away</td>\n",
       "      <td>2h</td>\n",
       "      <td>Female</td>\n",
       "      <td>21</td>\n",
       "      <td>Unmarried partner</td>\n",
       "      <td>...</td>\n",
       "      <td>never</td>\n",
       "      <td>NaN</td>\n",
       "      <td>4~8</td>\n",
       "      <td>1~3</td>\n",
       "      <td>1</td>\n",
       "      <td>1</td>\n",
       "      <td>0</td>\n",
       "      <td>0</td>\n",
       "      <td>1</td>\n",
       "      <td>1</td>\n",
       "    </tr>\n",
       "    <tr>\n",
       "      <th>3</th>\n",
       "      <td>No Urgent Place</td>\n",
       "      <td>Friend(s)</td>\n",
       "      <td>Sunny</td>\n",
       "      <td>80</td>\n",
       "      <td>2PM</td>\n",
       "      <td>Coffee House</td>\n",
       "      <td>2h</td>\n",
       "      <td>Female</td>\n",
       "      <td>21</td>\n",
       "      <td>Unmarried partner</td>\n",
       "      <td>...</td>\n",
       "      <td>never</td>\n",
       "      <td>NaN</td>\n",
       "      <td>4~8</td>\n",
       "      <td>1~3</td>\n",
       "      <td>1</td>\n",
       "      <td>1</td>\n",
       "      <td>0</td>\n",
       "      <td>0</td>\n",
       "      <td>1</td>\n",
       "      <td>0</td>\n",
       "    </tr>\n",
       "    <tr>\n",
       "      <th>4</th>\n",
       "      <td>No Urgent Place</td>\n",
       "      <td>Friend(s)</td>\n",
       "      <td>Sunny</td>\n",
       "      <td>80</td>\n",
       "      <td>2PM</td>\n",
       "      <td>Coffee House</td>\n",
       "      <td>1d</td>\n",
       "      <td>Female</td>\n",
       "      <td>21</td>\n",
       "      <td>Unmarried partner</td>\n",
       "      <td>...</td>\n",
       "      <td>never</td>\n",
       "      <td>NaN</td>\n",
       "      <td>4~8</td>\n",
       "      <td>1~3</td>\n",
       "      <td>1</td>\n",
       "      <td>1</td>\n",
       "      <td>0</td>\n",
       "      <td>0</td>\n",
       "      <td>1</td>\n",
       "      <td>0</td>\n",
       "    </tr>\n",
       "  </tbody>\n",
       "</table>\n",
       "<p>5 rows × 26 columns</p>\n",
       "</div>"
      ],
      "text/plain": [
       "       destination  passanger weather  temperature  time  \\\n",
       "0  No Urgent Place      Alone   Sunny           55   2PM   \n",
       "1  No Urgent Place  Friend(s)   Sunny           80  10AM   \n",
       "2  No Urgent Place  Friend(s)   Sunny           80  10AM   \n",
       "3  No Urgent Place  Friend(s)   Sunny           80   2PM   \n",
       "4  No Urgent Place  Friend(s)   Sunny           80   2PM   \n",
       "\n",
       "                  coupon expiration  gender age      maritalStatus  ...  \\\n",
       "0        Restaurant(<20)         1d  Female  21  Unmarried partner  ...   \n",
       "1           Coffee House         2h  Female  21  Unmarried partner  ...   \n",
       "2  Carry out & Take away         2h  Female  21  Unmarried partner  ...   \n",
       "3           Coffee House         2h  Female  21  Unmarried partner  ...   \n",
       "4           Coffee House         1d  Female  21  Unmarried partner  ...   \n",
       "\n",
       "   CoffeeHouse CarryAway RestaurantLessThan20 Restaurant20To50  \\\n",
       "0        never       NaN                  4~8              1~3   \n",
       "1        never       NaN                  4~8              1~3   \n",
       "2        never       NaN                  4~8              1~3   \n",
       "3        never       NaN                  4~8              1~3   \n",
       "4        never       NaN                  4~8              1~3   \n",
       "\n",
       "  toCoupon_GEQ5min toCoupon_GEQ15min toCoupon_GEQ25min direction_same  \\\n",
       "0                1                 0                 0              0   \n",
       "1                1                 0                 0              0   \n",
       "2                1                 1                 0              0   \n",
       "3                1                 1                 0              0   \n",
       "4                1                 1                 0              0   \n",
       "\n",
       "  direction_opp  Y  \n",
       "0             1  1  \n",
       "1             1  0  \n",
       "2             1  1  \n",
       "3             1  0  \n",
       "4             1  0  \n",
       "\n",
       "[5 rows x 26 columns]"
      ]
     },
     "execution_count": 475,
     "metadata": {},
     "output_type": "execute_result"
    }
   ],
   "source": [
    "df.head()"
   ]
  },
  {
   "cell_type": "markdown",
   "metadata": {
    "id": "GcDs78ZH_qRH"
   },
   "source": [
    "2. Investigate the dataset for missing or problematic data."
   ]
  },
  {
   "cell_type": "code",
   "execution_count": 477,
   "metadata": {},
   "outputs": [
    {
     "name": "stdout",
     "output_type": "stream",
     "text": [
      "<class 'pandas.core.frame.DataFrame'>\n",
      "RangeIndex: 12684 entries, 0 to 12683\n",
      "Data columns (total 26 columns):\n",
      " #   Column                Non-Null Count  Dtype \n",
      "---  ------                --------------  ----- \n",
      " 0   destination           12684 non-null  object\n",
      " 1   passanger             12684 non-null  object\n",
      " 2   weather               12684 non-null  object\n",
      " 3   temperature           12684 non-null  int64 \n",
      " 4   time                  12684 non-null  object\n",
      " 5   coupon                12684 non-null  object\n",
      " 6   expiration            12684 non-null  object\n",
      " 7   gender                12684 non-null  object\n",
      " 8   age                   12684 non-null  object\n",
      " 9   maritalStatus         12684 non-null  object\n",
      " 10  has_children          12684 non-null  int64 \n",
      " 11  education             12684 non-null  object\n",
      " 12  occupation            12684 non-null  object\n",
      " 13  income                12684 non-null  object\n",
      " 14  car                   108 non-null    object\n",
      " 15  Bar                   12577 non-null  object\n",
      " 16  CoffeeHouse           12467 non-null  object\n",
      " 17  CarryAway             12533 non-null  object\n",
      " 18  RestaurantLessThan20  12554 non-null  object\n",
      " 19  Restaurant20To50      12495 non-null  object\n",
      " 20  toCoupon_GEQ5min      12684 non-null  int64 \n",
      " 21  toCoupon_GEQ15min     12684 non-null  int64 \n",
      " 22  toCoupon_GEQ25min     12684 non-null  int64 \n",
      " 23  direction_same        12684 non-null  int64 \n",
      " 24  direction_opp         12684 non-null  int64 \n",
      " 25  Y                     12684 non-null  int64 \n",
      "dtypes: int64(8), object(18)\n",
      "memory usage: 2.5+ MB\n"
     ]
    }
   ],
   "source": [
    "# Display DataFrame info\n",
    "df.info()"
   ]
  },
  {
   "cell_type": "code",
   "execution_count": 5,
   "metadata": {
    "id": "6CwL6oWj_qRH"
   },
   "outputs": [
    {
     "name": "stdout",
     "output_type": "stream",
     "text": [
      "Missing values per column:\n",
      "destination                 0\n",
      "passanger                   0\n",
      "weather                     0\n",
      "temperature                 0\n",
      "time                        0\n",
      "coupon                      0\n",
      "expiration                  0\n",
      "gender                      0\n",
      "age                         0\n",
      "maritalStatus               0\n",
      "has_children                0\n",
      "education                   0\n",
      "occupation                  0\n",
      "income                      0\n",
      "car                     12576\n",
      "Bar                       107\n",
      "CoffeeHouse               217\n",
      "CarryAway                 151\n",
      "RestaurantLessThan20      130\n",
      "Restaurant20To50          189\n",
      "toCoupon_GEQ5min            0\n",
      "toCoupon_GEQ15min           0\n",
      "toCoupon_GEQ25min           0\n",
      "direction_same              0\n",
      "direction_opp               0\n",
      "Y                           0\n",
      "dtype: int64\n"
     ]
    }
   ],
   "source": [
    "# Finding missing values\n",
    "missing_values = df.isnull().sum()\n",
    "# Display missing values count per column\n",
    "print(\"Missing values per column:\")\n",
    "print(missing_values)"
   ]
  },
  {
   "cell_type": "markdown",
   "metadata": {
    "id": "bSdVSpYB_qRH"
   },
   "source": [
    "3. Decide what to do about your missing data -- drop, replace, other..."
   ]
  },
  {
   "cell_type": "code",
   "execution_count": 7,
   "metadata": {},
   "outputs": [
    {
     "name": "stdout",
     "output_type": "stream",
     "text": [
      "\n",
      "Value counts per column:\n",
      "\n",
      "Column destination:\n",
      "destination\n",
      "No Urgent Place    6283\n",
      "Home               3237\n",
      "Work               3164\n",
      "Name: count, dtype: int64\n",
      "\n",
      "Column passanger:\n",
      "passanger\n",
      "Alone        7305\n",
      "Friend(s)    3298\n",
      "Partner      1075\n",
      "Kid(s)       1006\n",
      "Name: count, dtype: int64\n",
      "\n",
      "Column weather:\n",
      "weather\n",
      "Sunny    10069\n",
      "Snowy     1405\n",
      "Rainy     1210\n",
      "Name: count, dtype: int64\n",
      "\n",
      "Column temperature:\n",
      "temperature\n",
      "80    6528\n",
      "55    3840\n",
      "30    2316\n",
      "Name: count, dtype: int64\n",
      "\n",
      "Column time:\n",
      "time\n",
      "6PM     3230\n",
      "7AM     3164\n",
      "10AM    2275\n",
      "2PM     2009\n",
      "10PM    2006\n",
      "Name: count, dtype: int64\n",
      "\n",
      "Column coupon:\n",
      "coupon\n",
      "Coffee House             3996\n",
      "Restaurant(<20)          2786\n",
      "Carry out & Take away    2393\n",
      "Bar                      2017\n",
      "Restaurant(20-50)        1492\n",
      "Name: count, dtype: int64\n",
      "\n",
      "Column expiration:\n",
      "expiration\n",
      "1d    7091\n",
      "2h    5593\n",
      "Name: count, dtype: int64\n",
      "\n",
      "Column gender:\n",
      "gender\n",
      "Female    6511\n",
      "Male      6173\n",
      "Name: count, dtype: int64\n",
      "\n",
      "Column age:\n",
      "age\n",
      "21         2653\n",
      "26         2559\n",
      "31         2039\n",
      "50plus     1788\n",
      "36         1319\n",
      "41         1093\n",
      "46          686\n",
      "below21     547\n",
      "Name: count, dtype: int64\n",
      "\n",
      "Column maritalStatus:\n",
      "maritalStatus\n",
      "Married partner      5100\n",
      "Single               4752\n",
      "Unmarried partner    2186\n",
      "Divorced              516\n",
      "Widowed               130\n",
      "Name: count, dtype: int64\n",
      "\n",
      "Column has_children:\n",
      "has_children\n",
      "0    7431\n",
      "1    5253\n",
      "Name: count, dtype: int64\n",
      "\n",
      "Column education:\n",
      "education\n",
      "Some college - no degree                  4351\n",
      "Bachelors degree                          4335\n",
      "Graduate degree (Masters or Doctorate)    1852\n",
      "Associates degree                         1153\n",
      "High School Graduate                       905\n",
      "Some High School                            88\n",
      "Name: count, dtype: int64\n",
      "\n",
      "Column occupation:\n",
      "occupation\n",
      "Unemployed                                   1870\n",
      "Student                                      1584\n",
      "Computer & Mathematical                      1408\n",
      "Sales & Related                              1093\n",
      "Education&Training&Library                    943\n",
      "Management                                    838\n",
      "Office & Administrative Support               639\n",
      "Arts Design Entertainment Sports & Media      629\n",
      "Business & Financial                          544\n",
      "Retired                                       495\n",
      "Food Preparation & Serving Related            298\n",
      "Healthcare Practitioners & Technical          244\n",
      "Healthcare Support                            242\n",
      "Community & Social Services                   241\n",
      "Legal                                         219\n",
      "Transportation & Material Moving              218\n",
      "Architecture & Engineering                    175\n",
      "Personal Care & Service                       175\n",
      "Protective Service                            175\n",
      "Life Physical Social Science                  170\n",
      "Construction & Extraction                     154\n",
      "Installation Maintenance & Repair             133\n",
      "Production Occupations                        110\n",
      "Building & Grounds Cleaning & Maintenance      44\n",
      "Farming Fishing & Forestry                     43\n",
      "Name: count, dtype: int64\n",
      "\n",
      "Column income:\n",
      "income\n",
      "$25000 - $37499     2013\n",
      "$12500 - $24999     1831\n",
      "$37500 - $49999     1805\n",
      "$100000 or More     1736\n",
      "$50000 - $62499     1659\n",
      "Less than $12500    1042\n",
      "$87500 - $99999      895\n",
      "$75000 - $87499      857\n",
      "$62500 - $74999      846\n",
      "Name: count, dtype: int64\n",
      "\n",
      "Column car:\n",
      "car\n",
      "Scooter and motorcycle                      22\n",
      "Mazda5                                      22\n",
      "do not drive                                22\n",
      "crossover                                   21\n",
      "Car that is too old to install Onstar :D    21\n",
      "Name: count, dtype: int64\n",
      "\n",
      "Column Bar:\n",
      "Bar\n",
      "never    5197\n",
      "less1    3482\n",
      "1~3      2473\n",
      "4~8      1076\n",
      "gt8       349\n",
      "Name: count, dtype: int64\n",
      "\n",
      "Column CoffeeHouse:\n",
      "CoffeeHouse\n",
      "less1    3385\n",
      "1~3      3225\n",
      "never    2962\n",
      "4~8      1784\n",
      "gt8      1111\n",
      "Name: count, dtype: int64\n",
      "\n",
      "Column CarryAway:\n",
      "CarryAway\n",
      "1~3      4672\n",
      "4~8      4258\n",
      "less1    1856\n",
      "gt8      1594\n",
      "never     153\n",
      "Name: count, dtype: int64\n",
      "\n",
      "Column RestaurantLessThan20:\n",
      "RestaurantLessThan20\n",
      "1~3      5376\n",
      "4~8      3580\n",
      "less1    2093\n",
      "gt8      1285\n",
      "never     220\n",
      "Name: count, dtype: int64\n",
      "\n",
      "Column Restaurant20To50:\n",
      "Restaurant20To50\n",
      "less1    6077\n",
      "1~3      3290\n",
      "never    2136\n",
      "4~8       728\n",
      "gt8       264\n",
      "Name: count, dtype: int64\n",
      "\n",
      "Column toCoupon_GEQ5min:\n",
      "toCoupon_GEQ5min\n",
      "1    12684\n",
      "Name: count, dtype: int64\n",
      "\n",
      "Column toCoupon_GEQ15min:\n",
      "toCoupon_GEQ15min\n",
      "1    7122\n",
      "0    5562\n",
      "Name: count, dtype: int64\n",
      "\n",
      "Column toCoupon_GEQ25min:\n",
      "toCoupon_GEQ25min\n",
      "0    11173\n",
      "1     1511\n",
      "Name: count, dtype: int64\n",
      "\n",
      "Column direction_same:\n",
      "direction_same\n",
      "0    9960\n",
      "1    2724\n",
      "Name: count, dtype: int64\n",
      "\n",
      "Column direction_opp:\n",
      "direction_opp\n",
      "1    9960\n",
      "0    2724\n",
      "Name: count, dtype: int64\n",
      "\n",
      "Column Y:\n",
      "Y\n",
      "1    7210\n",
      "0    5474\n",
      "Name: count, dtype: int64\n"
     ]
    }
   ],
   "source": [
    "# Value counts for each column\n",
    "print(\"\\nValue counts per column:\")\n",
    "for column in df.columns:\n",
    "    print(f\"\\nColumn {column}:\")\n",
    "    print(df[column].value_counts())"
   ]
  },
  {
   "cell_type": "code",
   "execution_count": 35,
   "metadata": {},
   "outputs": [
    {
     "data": {
      "image/png": "[encoded data removed]",
      "text/plain": [
       "<Figure size 600x400 with 1 Axes>"
      ]
     },
     "metadata": {},
     "output_type": "display_data"
    },
    {
     "data": {
      "image/png": "[encoded data removed]",
      "text/plain": [
       "<Figure size 600x400 with 1 Axes>"
      ]
     },
     "metadata": {},
     "output_type": "display_data"
    },
    {
     "data": {
      "image/png": "[encoded data removed]",
      "text/plain": [
       "<Figure size 600x400 with 1 Axes>"
      ]
     },
     "metadata": {},
     "output_type": "display_data"
    },
    {
     "data": {
      "image/png": "[encoded data removed]",
      "text/plain": [
       "<Figure size 600x400 with 1 Axes>"
      ]
     },
     "metadata": {},
     "output_type": "display_data"
    },
    {
     "data": {
      "image/png": "[encoded data removed]",
      "text/plain": [
       "<Figure size 600x400 with 1 Axes>"
      ]
     },
     "metadata": {},
     "output_type": "display_data"
    },
    {
     "data": {
      "image/png": "[encoded data removed]",
      "text/plain": [
       "<Figure size 600x400 with 1 Axes>"
      ]
     },
     "metadata": {},
     "output_type": "display_data"
    }
   ],
   "source": [
    "# Function to plot distribution of multiple categorical variables\n",
    "def plot_selected_categorical_distribution(df, columns):\n",
    "    for column in columns:\n",
    "        if column in df.columns:\n",
    "            plt.figure(figsize=(6, 4))\n",
    "            df[column].value_counts().plot(kind='bar', color=['blue', 'green', 'red'])\n",
    "            plt.xlabel(column)\n",
    "            plt.ylabel('Count')\n",
    "            plt.title(f'Distribution of {column}')\n",
    "            plt.show()\n",
    "        else:\n",
    "            print(f\"Column '{column}' not found in DataFrame.\")\n",
    "\n",
    "# Specify all categorical columns to plot at once\n",
    "selected_columns = ['car', 'Bar', 'CoffeeHouse', 'CarryAway', 'RestaurantLessThan20', 'Restaurant20To50']\n",
    "\n",
    "# Call the function once for all selected columns\n",
    "plot_selected_categorical_distribution(df, selected_columns)"
   ]
  },
  {
   "cell_type": "code",
   "execution_count": 27,
   "metadata": {},
   "outputs": [
    {
     "name": "stdout",
     "output_type": "stream",
     "text": [
      "Mode for car: 0                    Mazda5\n",
      "1    Scooter and motorcycle\n",
      "2              do not drive\n",
      "Name: car, dtype: object\n",
      "Filling NaN in car with Mazda5\n",
      "Mode for Bar: 0    never\n",
      "Name: Bar, dtype: object\n",
      "Filling NaN in Bar with never\n",
      "Mode for CoffeeHouse: 0    less1\n",
      "Name: CoffeeHouse, dtype: object\n",
      "Filling NaN in CoffeeHouse with less1\n",
      "Mode for CarryAway: 0    1~3\n",
      "Name: CarryAway, dtype: object\n",
      "Filling NaN in CarryAway with 1~3\n",
      "Mode for RestaurantLessThan20: 0    1~3\n",
      "Name: RestaurantLessThan20, dtype: object\n",
      "Filling NaN in RestaurantLessThan20 with 1~3\n",
      "Mode for Restaurant20To50: 0    less1\n",
      "Name: Restaurant20To50, dtype: object\n",
      "Filling NaN in Restaurant20To50 with less1\n"
     ]
    }
   ],
   "source": [
    "# Function to calculate mode\n",
    "def calculate_mode(series):\n",
    "    mode_values = series.mode()\n",
    "    print(f\"Mode for {series.name}: {mode_values}\")\n",
    "    return mode_values[0] if not mode_values.empty else None\n",
    "\n",
    "# Function to fill missing categorical values with mode\n",
    "def fill_missing_selected_categorical_modes(df, columns):\n",
    "    df_nomiss = df.copy()\n",
    "    for column in columns:\n",
    "        if column in df_nomiss.columns:\n",
    "            df_nomiss[column] = df_nomiss[column].replace([\"\", \"NaN\"], np.nan)  # Handle non-null NaNs\n",
    "            mode_value = calculate_mode(df_nomiss[column])\n",
    "            print(f\"Filling NaN in {column} with {mode_value}\")\n",
    "            if mode_value is not None:\n",
    "                df_nomiss[column] = df_nomiss[column].fillna(mode_value)\n",
    "            else:\n",
    "                print(f\"No valid mode found for '{column}' column.\")\n",
    "        else:\n",
    "            print(f\"Column '{column}' not found in DataFrame.\")\n",
    "    return df_nomiss\n",
    "\n",
    "# Specify multiple categorical columns to fill at once\n",
    "selected_categorical_columns = ['car', 'Bar', 'CoffeeHouse', 'CarryAway', 'RestaurantLessThan20', 'Restaurant20To50']\n",
    "\n",
    "# Fill missing values for all specified columns in one function call\n",
    "df_nomiss = fill_missing_selected_categorical_modes(df, selected_categorical_columns)"
   ]
  },
  {
   "cell_type": "code",
   "execution_count": 37,
   "metadata": {},
   "outputs": [
    {
     "name": "stdout",
     "output_type": "stream",
     "text": [
      "Missing values per column:\n",
      "destination             0\n",
      "passanger               0\n",
      "weather                 0\n",
      "temperature             0\n",
      "time                    0\n",
      "coupon                  0\n",
      "expiration              0\n",
      "gender                  0\n",
      "age                     0\n",
      "maritalStatus           0\n",
      "has_children            0\n",
      "education               0\n",
      "occupation              0\n",
      "income                  0\n",
      "car                     0\n",
      "Bar                     0\n",
      "CoffeeHouse             0\n",
      "CarryAway               0\n",
      "RestaurantLessThan20    0\n",
      "Restaurant20To50        0\n",
      "toCoupon_GEQ5min        0\n",
      "toCoupon_GEQ15min       0\n",
      "toCoupon_GEQ25min       0\n",
      "direction_same          0\n",
      "direction_opp           0\n",
      "Y                       0\n",
      "dtype: int64\n"
     ]
    }
   ],
   "source": [
    "# Checking missing values after filling missing categorical values with mode\n",
    "missing_values = df_nomiss.isnull().sum()\n",
    "# Display missing values count per column\n",
    "print(\"Missing values per column:\")\n",
    "print(missing_values)"
   ]
  },
  {
   "cell_type": "markdown",
   "metadata": {
    "id": "YE6oJbXd_qRI"
   },
   "source": [
    "4. What proportion of the total observations chose to accept the coupon?\n",
    "\n"
   ]
  },
  {
   "cell_type": "code",
   "execution_count": 91,
   "metadata": {},
   "outputs": [
    {
     "name": "stdout",
     "output_type": "stream",
     "text": [
      "Proportion of total observations that accepted the coupon: 0.57\n"
     ]
    }
   ],
   "source": [
    "# Calculate the total number of accepted coupons (Y = 1)\n",
    "accepted_coupons = df_nomiss[df_nomiss['Y'] == 1].shape[0]\n",
    "\n",
    "# Calculate the total number of observations\n",
    "total_observations = df_nomiss.shape[0]\n",
    "\n",
    "# Proportion of accepted coupons\n",
    "proportion_accepted = accepted_coupons / total_observations if total_observations > 0 else 0\n",
    "\n",
    "# Print the result\n",
    "print(f\"Proportion of total observations that accepted the coupon: {proportion_accepted:.2f}\")"
   ]
  },
  {
   "cell_type": "markdown",
   "metadata": {
    "id": "vflz0DoE_qRI"
   },
   "source": [
    "5. Use a bar plot to visualize the `coupon` column."
   ]
  },
  {
   "cell_type": "code",
   "execution_count": 49,
   "metadata": {
    "id": "dHFh3E45_qRI"
   },
   "outputs": [
    {
     "data": {
      "image/png": "[encoded data removed]",
      "text/plain": [
       "<Figure size 600x400 with 1 Axes>"
      ]
     },
     "metadata": {},
     "output_type": "display_data"
    }
   ],
   "source": [
    "# Function to plot the distribution of a categorical column\n",
    "def plot_categorical_distribution(df, column):\n",
    "    if column in df.columns:\n",
    "        plt.figure(figsize=(6,4))\n",
    "        df[column].value_counts().plot(kind='bar', color='skyblue')\n",
    "        plt.xlabel(column)\n",
    "        plt.ylabel('Count')\n",
    "        plt.title(f'Bar Plot of {column}')\n",
    "        plt.xticks(rotation=45)\n",
    "        plt.show()\n",
    "    else:\n",
    "        print(f\"Column '{column}' not found in DataFrame.\")\n",
    "\n",
    "# Call the function for the 'coupon' column in df_nomiss\n",
    "plot_categorical_distribution(df_nomiss, 'coupon')"
   ]
  },
  {
   "cell_type": "markdown",
   "metadata": {
    "id": "Qw4lCyx2_qRI"
   },
   "source": [
    "6. Use a histogram to visualize the temperature column."
   ]
  },
  {
   "cell_type": "code",
   "execution_count": 83,
   "metadata": {
    "id": "Yg9Anv71_qRI"
   },
   "outputs": [
    {
     "data": {
      "image/png": "[encoded data removed]",
      "text/plain": [
       "<Figure size 600x400 with 1 Axes>"
      ]
     },
     "metadata": {},
     "output_type": "display_data"
    }
   ],
   "source": [
    "# Function to plot histogram for a numeric column\n",
    "def plot_numeric_distribution(df, column, bins=10):\n",
    "    if column in df.columns:\n",
    "        plt.figure(figsize=(6, 4))\n",
    "        df[column].plot(kind='hist', bins=bins, color='skyblue', edgecolor='black')\n",
    "        plt.xlabel(column)\n",
    "        plt.ylabel('Frequency')\n",
    "        plt.title(f'Distribution of {column}')\n",
    "        plt.show()\n",
    "    else:\n",
    "        print(f\"Column '{column}' not found in DataFrame.\")\n",
    "\n",
    "# Call the function for the 'temperature' column in df_nomiss\n",
    "plot_numeric_distribution(df_nomiss, 'temperature', bins=10)  "
   ]
  },
  {
   "cell_type": "markdown",
   "metadata": {
    "id": "FupfgeJk_qRJ"
   },
   "source": [
    "**Investigating the Bar Coupons**\n",
    "\n",
    "Now, we will lead you through an exploration of just the bar related coupons.  \n",
    "\n",
    "1. Create a new `DataFrame` that contains just the bar coupons.\n"
   ]
  },
  {
   "cell_type": "code",
   "execution_count": 87,
   "metadata": {
    "id": "tMBlWuGq_qRJ"
   },
   "outputs": [
    {
     "name": "stdout",
     "output_type": "stream",
     "text": [
      "           destination  passanger weather  temperature  time coupon  \\\n",
      "9      No Urgent Place     Kid(s)   Sunny           80  10AM    Bar   \n",
      "13                Home      Alone   Sunny           55   6PM    Bar   \n",
      "17                Work      Alone   Sunny           55   7AM    Bar   \n",
      "24     No Urgent Place  Friend(s)   Sunny           80  10AM    Bar   \n",
      "35                Home      Alone   Sunny           55   6PM    Bar   \n",
      "...                ...        ...     ...          ...   ...    ...   \n",
      "12663  No Urgent Place  Friend(s)   Sunny           80  10PM    Bar   \n",
      "12664  No Urgent Place  Friend(s)   Sunny           55  10PM    Bar   \n",
      "12667  No Urgent Place      Alone   Rainy           55  10AM    Bar   \n",
      "12670  No Urgent Place    Partner   Rainy           55   6PM    Bar   \n",
      "12682             Work      Alone   Snowy           30   7AM    Bar   \n",
      "\n",
      "      expiration  gender age      maritalStatus  ...  CoffeeHouse CarryAway  \\\n",
      "9             1d  Female  21  Unmarried partner  ...        never       1~3   \n",
      "13            1d  Female  21  Unmarried partner  ...        never       1~3   \n",
      "17            1d  Female  21  Unmarried partner  ...        never       1~3   \n",
      "24            1d    Male  21             Single  ...        less1       4~8   \n",
      "35            1d    Male  21             Single  ...        less1       4~8   \n",
      "...          ...     ...  ..                ...  ...          ...       ...   \n",
      "12663         1d    Male  26             Single  ...        never       1~3   \n",
      "12664         2h    Male  26             Single  ...        never       1~3   \n",
      "12667         1d    Male  26             Single  ...        never       1~3   \n",
      "12670         2h    Male  26             Single  ...        never       1~3   \n",
      "12682         1d    Male  26             Single  ...        never       1~3   \n",
      "\n",
      "      RestaurantLessThan20 Restaurant20To50 toCoupon_GEQ5min  \\\n",
      "9                      4~8              1~3                1   \n",
      "13                     4~8              1~3                1   \n",
      "17                     4~8              1~3                1   \n",
      "24                     4~8            less1                1   \n",
      "35                     4~8            less1                1   \n",
      "...                    ...              ...              ...   \n",
      "12663                  4~8              1~3                1   \n",
      "12664                  4~8              1~3                1   \n",
      "12667                  4~8              1~3                1   \n",
      "12670                  4~8              1~3                1   \n",
      "12682                  4~8              1~3                1   \n",
      "\n",
      "      toCoupon_GEQ15min toCoupon_GEQ25min direction_same direction_opp  Y  \n",
      "9                     1                 0              0             1  0  \n",
      "13                    0                 0              1             0  1  \n",
      "17                    1                 1              0             1  0  \n",
      "24                    0                 0              0             1  1  \n",
      "35                    0                 0              1             0  1  \n",
      "...                 ...               ...            ...           ... ..  \n",
      "12663                 1                 0              0             1  0  \n",
      "12664                 1                 0              0             1  0  \n",
      "12667                 1                 0              0             1  0  \n",
      "12670                 1                 0              0             1  0  \n",
      "12682                 1                 1              0             1  0  \n",
      "\n",
      "[2017 rows x 26 columns]\n"
     ]
    }
   ],
   "source": [
    "# Create a new DataFrame with just the rows where coupon equals 'Bar'\n",
    "df_bar_coupons = df_nomiss[df_nomiss['coupon'] == 'Bar']\n",
    "\n",
    "# Display the new DataFrame\n",
    "print(df_bar_coupons)"
   ]
  },
  {
   "cell_type": "markdown",
   "metadata": {
    "id": "8ue6uCqf_qRJ"
   },
   "source": [
    "2. What proportion of bar coupons were accepted?\n"
   ]
  },
  {
   "cell_type": "code",
   "execution_count": 93,
   "metadata": {
    "id": "hSdte8Mi_qRK"
   },
   "outputs": [
    {
     "name": "stdout",
     "output_type": "stream",
     "text": [
      "Proportion of accepted 'Bar' coupons: 0.41\n"
     ]
    }
   ],
   "source": [
    "# Calculate the total number of accepted coupons (Y = 1) in 'Bar' coupons\n",
    "accepted_bar_coupons = df_bar_coupons[df_bar_coupons['Y'] == 1].shape[0]\n",
    "\n",
    "# Calculate the total number of 'Bar' coupons\n",
    "total_bar_coupons = df_bar_coupons.shape[0]\n",
    "\n",
    "# Proportion of accepted 'Bar' coupons\n",
    "proportion_accepted = accepted_bar_coupons / total_bar_coupons if total_bar_coupons > 0 else 0\n",
    "\n",
    "# Print the result\n",
    "print(f\"Proportion of accepted 'Bar' coupons: {proportion_accepted:.2f}\")"
   ]
  },
  {
   "cell_type": "markdown",
   "metadata": {
    "id": "85nA_iEi_qRK"
   },
   "source": [
    "3. Compare the acceptance rate between those who went to a bar 3 or fewer times a month to those who went more.\n"
   ]
  },
  {
   "cell_type": "code",
   "execution_count": 148,
   "metadata": {
    "id": "LBOrN-XM_qRK"
   },
   "outputs": [
    {
     "name": "stdout",
     "output_type": "stream",
     "text": [
      "Acceptance rates for each group:\n",
      "Group\n",
      "Group 1    0.370737\n",
      "Group 2    0.768844\n",
      "Name: Y, dtype: float64\n",
      "\n",
      "Group 2 (drivers who go to a bar more than 3 times a month) has a higher acceptance rate.\n"
     ]
    }
   ],
   "source": [
    "# Map 'Bar' values to two categories: Group 1(go to a bar 3 or fewer times a month) and Group 2(go to a bar More than 3 times a month)\n",
    "\n",
    "df_bar_coupons.loc[:, 'Group'] = df_bar_coupons['Bar'].apply(\n",
    "    lambda x: 'Group 1' if x in ['never', 'less1', '1~3'] else 'Group 2'\n",
    ")\n",
    "\n",
    "# Calculate the acceptance rate (Y = 1) for each group\n",
    "acceptance_rate = df_bar_coupons.groupby('Group')['Y'].mean()\n",
    "\n",
    "# Print the acceptance rates\n",
    "print(\"Acceptance rates for each group:\")\n",
    "print(acceptance_rate)\n",
    "\n",
    "# Compare the acceptance rates and print the observation based on the comparison\n",
    "if acceptance_rate['Group 1'] > acceptance_rate['Group 2']:\n",
    "    print(\"\\nGroup 1 (drivers who go to a bar 3 or fewer times a month) has a higher acceptance rate.\")\n",
    "elif acceptance_rate['Group 1'] < acceptance_rate['Group 2']:\n",
    "    print(\"\\nGroup 2 (drivers who go to a bar more than 3 times a month) has a higher acceptance rate.\")\n",
    "else:\n",
    "    print(\"\\nThe acceptance rates for Group 1 and Group 2 are the same.\")"
   ]
  },
  {
   "cell_type": "markdown",
   "metadata": {
    "id": "RBgcQwH4_qRK"
   },
   "source": [
    "4. Compare the acceptance rate between drivers who go to a bar more than once a month and are over the age of 25 to the all others.  Is there a difference?\n"
   ]
  },
  {
   "cell_type": "code",
   "execution_count": 124,
   "metadata": {
    "id": "bf28bbeX_qRK"
   },
   "outputs": [
    {
     "name": "stdout",
     "output_type": "stream",
     "text": [
      "Acceptance rates for each group:\n",
      "Group\n",
      "Group 1    0.695238\n",
      "Group 2    0.335003\n",
      "Name: Y, dtype: float64\n",
      "\n",
      "Group 1 (drivers who go to a bar more than once a month and are over 25) has a higher acceptance rate.\n"
     ]
    }
   ],
   "source": [
    "# Group 1: Bar visits more than once AND age over 25.\n",
    "# Group 2: All others (either going to a bar less than once a month or age 25 or younger).\n",
    "\n",
    "# Grouping based on Bar visits and Age\n",
    "df_bar_coupons.loc[:, 'Group'] = df_bar_coupons.apply(\n",
    "    lambda row: 'Group 1' if row['Bar'] in ['1~3', '4~8', 'gt8'] and row['age'] not in ['below21', '21'] else 'Group 2', axis=1\n",
    ")\n",
    "\n",
    "# Calculate the acceptance rate (Y = 1) for each group\n",
    "acceptance_rate = df_bar_coupons.groupby('Group')['Y'].mean()\n",
    "\n",
    "# Print the acceptance rates\n",
    "print(\"Acceptance rates for each group:\")\n",
    "print(acceptance_rate)\n",
    "\n",
    "# Compare the acceptance rates and print the observation based on the comparison\n",
    "if acceptance_rate['Group 1'] > acceptance_rate['Group 2']:\n",
    "    print(\"\\nGroup 1 (drivers who go to a bar more than once a month and are over 25) has a higher acceptance rate.\")\n",
    "elif acceptance_rate['Group 1'] < acceptance_rate['Group 2']:\n",
    "    print(\"\\nGroup 2 (drivers who never go to a bar or go to a bar less than once a month or age 25 or younger) has a higher acceptance rate.\")\n",
    "else:\n",
    "    print(\"\\nThe acceptance rates for Group 1 and Group 2 are the same.\")"
   ]
  },
  {
   "cell_type": "markdown",
   "metadata": {
    "id": "S4RKT4PJ_qRK"
   },
   "source": [
    "5. Use the same process to compare the acceptance rate between drivers who go to bars more than once a month and had passengers that were not a kid and had occupations other than farming, fishing, or forestry.\n"
   ]
  },
  {
   "cell_type": "code",
   "execution_count": 126,
   "metadata": {
    "id": "sENaI2Tg_qRK"
   },
   "outputs": [
    {
     "name": "stdout",
     "output_type": "stream",
     "text": [
      "Acceptance rates for each group:\n",
      "Group\n",
      "Group 1    0.713249\n",
      "Group 2    0.296044\n",
      "Name: Y, dtype: float64\n",
      "\n",
      "Group 1 (drivers who go to a bar more than once a month, had passengers who were not kids, and had occupations other than farming, fishing, or forestry) has a higher acceptance rate.\n"
     ]
    }
   ],
   "source": [
    "# Group 1: Drivers who who go to bars more than once a month and had passengers that were not a kid and had occupations other than farming, fishing, or forestry.\n",
    "# Group 2: All others.\n",
    "\n",
    "# Grouping based on Bar visits, Passenger type, and Occupation\n",
    "df_bar_coupons.loc[:, 'Group'] = df_bar_coupons.apply(\n",
    "    lambda row: 'Group 1' if row['Bar'] in ['1~3', '4~8', 'gt8'] and row['passanger'] != 'Kid(s)' and row['occupation'] != 'Farming Fishing & Forestry' \n",
    "    else 'Group 2', axis=1\n",
    ")\n",
    "\n",
    "# Calculate the acceptance rate (Y = 1) for each group\n",
    "acceptance_rate = df_bar_coupons.groupby('Group')['Y'].mean()\n",
    "\n",
    "# Print the acceptance rates\n",
    "print(\"Acceptance rates for each group:\")\n",
    "print(acceptance_rate)\n",
    "\n",
    "# Compare the acceptance rates and print the observation based on the comparison\n",
    "if acceptance_rate['Group 1'] > acceptance_rate['Group 2']:\n",
    "    print(\"\\nGroup 1 (drivers who go to a bar more than once a month, had passengers who were not kids, and had occupations other than farming, fishing, or forestry) has a higher acceptance rate.\")\n",
    "elif acceptance_rate['Group 1'] < acceptance_rate['Group 2']:\n",
    "    print(\"\\nGroup 2 (all other drivers) has a higher acceptance rate.\")\n",
    "else:\n",
    "    print(\"\\nThe acceptance rates for Group 1 and Group 2 are the same.\")"
   ]
  },
  {
   "cell_type": "markdown",
   "metadata": {
    "id": "n2LIUTil_qRK"
   },
   "source": [
    "6. Compare the acceptance rates between those drivers who:\n",
    "\n",
    "- go to bars more than once a month, had passengers that were not a kid, and were not widowed *OR*\n",
    "- go to bars more than once a month and are under the age of 30 *OR*\n",
    "- go to cheap restaurants more than 4 times a month and income is less than 50K.\n",
    "\n"
   ]
  },
  {
   "cell_type": "code",
   "execution_count": 128,
   "metadata": {
    "id": "aK_wEzx7_qRK"
   },
   "outputs": [
    {
     "name": "stdout",
     "output_type": "stream",
     "text": [
      "Acceptance rates for each group:\n",
      "Group\n",
      "Group 1    0.713249\n",
      "Group 2    0.777778\n",
      "Group 3    0.263889\n",
      "Other      0.298147\n",
      "Name: Y, dtype: float64\n",
      "\n",
      "Group 2 (drivers who go to a bar more than once a month and are under the age of 30) has the highest acceptance rate.\n"
     ]
    }
   ],
   "source": [
    "# Grouping drivers based on the specified conditions using Bar, passanger, maritalStatus, age, RestaurantLessThan20, income,\n",
    "\n",
    "df_bar_coupons.loc[:, 'Group'] = df_bar_coupons.apply(\n",
    "    lambda row: 'Group 1' if row['Bar'] in ['1~3', '4~8', 'gt8'] and row['passanger'] != 'Kid(s)' and row['maritalStatus'] != 'Widowed' \n",
    "    else 'Group 2' if row['Bar'] in ['1~3', '4~8', 'gt8'] and row['age'] in ['below21', '21', '26'] \n",
    "    else 'Group 3' if row['RestaurantLessThan20'] in ['4~8', 'gt8'] and row['income'] in ['Less than $12500', '$12500 - $24999', '$25000 - $37499', '$37500 - $49999']\n",
    "    else 'Other', axis=1\n",
    ")\n",
    "\n",
    "# Calculate the acceptance rate (Y = 1) for each group\n",
    "acceptance_rate = df_bar_coupons.groupby('Group')['Y'].mean()\n",
    "\n",
    "# Print the acceptance rates\n",
    "print(\"Acceptance rates for each group:\")\n",
    "print(acceptance_rate)\n",
    "\n",
    "# Compare the acceptance rates and print the observation based on the comparison\n",
    "if acceptance_rate.get('Group 1', 0) > acceptance_rate.get('Group 2', 0) and acceptance_rate.get('Group 1', 0) > acceptance_rate.get('Group 3', 0):\n",
    "    print(\"\\nGroup 1 (drivers who go to a bar more than once a month, had passengers who were not kids, and were not widowed) has the highest acceptance rate.\")\n",
    "elif acceptance_rate.get('Group 2', 0) > acceptance_rate.get('Group 1', 0) and acceptance_rate.get('Group 2', 0) > acceptance_rate.get('Group 3', 0):\n",
    "    print(\"\\nGroup 2 (drivers who go to a bar more than once a month and are under the age of 30) has the highest acceptance rate.\")\n",
    "elif acceptance_rate.get('Group 3', 0) > acceptance_rate.get('Group 1', 0) and acceptance_rate.get('Group 3', 0) > acceptance_rate.get('Group 2', 0):\n",
    "    print(\"\\nGroup 3 (drivers who go to cheap restaurants more than 4 times a month and income is less than $50K) has the highest acceptance rate.\")\n",
    "else:\n",
    "    print(\"\\nNo group has a significantly higher acceptance rate.\")"
   ]
  },
  {
   "cell_type": "markdown",
   "metadata": {
    "id": "v3fL3QkO_qRK"
   },
   "source": [
    "7.  Based on these observations, what do you hypothesize about drivers who accepted the bar coupons?"
   ]
  },
  {
   "cell_type": "markdown",
   "metadata": {
    "id": "Y48naDFh_qRL"
   },
   "source": [
    "Drivers aged 25 to 30, who visit a bar more than once a month, have passengers who are not kids, and work in occupations other than farming, fishing, or forestry, are more likely to accept the coupon."
   ]
  },
  {
   "cell_type": "markdown",
   "metadata": {
    "id": "r4Hu1zOb_qRL"
   },
   "source": [
    "### Independent Investigation\n",
    "\n",
    "Using the bar coupon example as motivation, you are to explore one of the other coupon groups and try to determine the characteristics of passengers who accept the coupons.  "
   ]
  },
  {
   "cell_type": "markdown",
   "metadata": {
    "id": "0c71cQhu_qRL"
   },
   "source": [
    "**Investigating the CoffeeHouse Coupons**\n",
    "\n",
    "1. Create a new `DataFrame` that contains just the Coffee House coupons."
   ]
  },
  {
   "cell_type": "code",
   "execution_count": 133,
   "metadata": {
    "id": "QEsBkvIN_qRL"
   },
   "outputs": [
    {
     "name": "stdout",
     "output_type": "stream",
     "text": [
      "           destination  passanger weather  temperature  time        coupon  \\\n",
      "1      No Urgent Place  Friend(s)   Sunny           80  10AM  Coffee House   \n",
      "3      No Urgent Place  Friend(s)   Sunny           80   2PM  Coffee House   \n",
      "4      No Urgent Place  Friend(s)   Sunny           80   2PM  Coffee House   \n",
      "12     No Urgent Place     Kid(s)   Sunny           55   6PM  Coffee House   \n",
      "15                Home      Alone   Sunny           80   6PM  Coffee House   \n",
      "...                ...        ...     ...          ...   ...           ...   \n",
      "12656             Home      Alone   Snowy           30  10PM  Coffee House   \n",
      "12659             Work      Alone   Snowy           30   7AM  Coffee House   \n",
      "12674             Home      Alone   Rainy           55  10PM  Coffee House   \n",
      "12675             Home      Alone   Snowy           30  10PM  Coffee House   \n",
      "12681             Work      Alone   Snowy           30   7AM  Coffee House   \n",
      "\n",
      "      expiration  gender age      maritalStatus  ...  RestaurantLessThan20  \\\n",
      "1             2h  Female  21  Unmarried partner  ...                   4~8   \n",
      "3             2h  Female  21  Unmarried partner  ...                   4~8   \n",
      "4             1d  Female  21  Unmarried partner  ...                   4~8   \n",
      "12            2h  Female  21  Unmarried partner  ...                   4~8   \n",
      "15            2h  Female  21  Unmarried partner  ...                   4~8   \n",
      "...          ...     ...  ..                ...  ...                   ...   \n",
      "12656         2h    Male  31    Married partner  ...                   gt8   \n",
      "12659         1d    Male  31    Married partner  ...                   gt8   \n",
      "12674         2h    Male  26             Single  ...                   4~8   \n",
      "12675         2h    Male  26             Single  ...                   4~8   \n",
      "12681         1d    Male  26             Single  ...                   4~8   \n",
      "\n",
      "      Restaurant20To50 toCoupon_GEQ5min toCoupon_GEQ15min toCoupon_GEQ25min  \\\n",
      "1                  1~3                1                 0                 0   \n",
      "3                  1~3                1                 1                 0   \n",
      "4                  1~3                1                 1                 0   \n",
      "12                 1~3                1                 1                 0   \n",
      "15                 1~3                1                 0                 0   \n",
      "...                ...              ...               ...               ...   \n",
      "12656            less1                1                 1                 0   \n",
      "12659            less1                1                 0                 0   \n",
      "12674              1~3                1                 0                 0   \n",
      "12675              1~3                1                 1                 0   \n",
      "12681              1~3                1                 0                 0   \n",
      "\n",
      "      direction_same direction_opp  Y    BarGroup    Group  \n",
      "1                  0             1  0  3 or fewer  Group 3  \n",
      "3                  0             1  0  3 or fewer  Group 3  \n",
      "4                  0             1  0  3 or fewer  Group 3  \n",
      "12                 0             1  1  3 or fewer  Group 3  \n",
      "15                 0             1  0  3 or fewer  Group 3  \n",
      "...              ...           ... ..         ...      ...  \n",
      "12656              0             1  0  3 or fewer    Other  \n",
      "12659              1             0  0  3 or fewer    Other  \n",
      "12674              1             0  0  3 or fewer    Other  \n",
      "12675              0             1  0  3 or fewer    Other  \n",
      "12681              1             0  0  3 or fewer    Other  \n",
      "\n",
      "[3996 rows x 28 columns]\n"
     ]
    }
   ],
   "source": [
    "# Create a new DataFrame with just the rows where coupon equals 'Coffee House'\n",
    "df_coffee_coupons = df_nomiss[df_nomiss['coupon'] == 'Coffee House']\n",
    "\n",
    "# Display the new DataFrame\n",
    "print(df_coffee_coupons)"
   ]
  },
  {
   "cell_type": "markdown",
   "metadata": {
    "id": "fTC2WGE3_qRL"
   },
   "source": [
    "2. What proportion of Coffee House coupons were accepted?"
   ]
  },
  {
   "cell_type": "code",
   "execution_count": 138,
   "metadata": {
    "id": "RrqUWn7d_qRL"
   },
   "outputs": [
    {
     "name": "stdout",
     "output_type": "stream",
     "text": [
      "Proportion of accepted 'Coffee House' coupons: 0.50\n"
     ]
    }
   ],
   "source": [
    "# Calculate the total number of accepted coupons (Y = 1) in 'Coffee House' coupons\n",
    "accepted_coffee_coupons = df_coffee_coupons[df_coffee_coupons['Y'] == 1].shape[0]\n",
    "\n",
    "# Calculate the total number of 'Coffee House' coupons\n",
    "total_coffee_coupons = df_coffee_coupons.shape[0]\n",
    "\n",
    "# Proportion of accepted 'Coffee House' coupons\n",
    "proportion_accepted = accepted_coffee_coupons / total_coffee_coupons if total_coffee_coupons > 0 else 0\n",
    "\n",
    "# Print the result\n",
    "print(f\"Proportion of accepted 'Coffee House' coupons: {proportion_accepted:.2f}\")"
   ]
  },
  {
   "cell_type": "markdown",
   "metadata": {
    "id": "_oykf8YP_qRL"
   },
   "source": [
    "3. Compare the acceptance rate between those who went to a Coffee House 3 or fewer times a month to those who went more."
   ]
  },
  {
   "cell_type": "code",
   "execution_count": 146,
   "metadata": {},
   "outputs": [
    {
     "name": "stdout",
     "output_type": "stream",
     "text": [
      "Acceptance rates for each group:\n",
      "Group\n",
      "Group 1    0.449615\n",
      "Group 2    0.675000\n",
      "Name: Y, dtype: float64\n",
      "\n",
      "Group 2 (drivers who go to a Coffee House more than 3 times a month) has a higher acceptance rate.\n"
     ]
    }
   ],
   "source": [
    "# Map 'CoffeeHouse' values to two categories: 'go to a Coffee House 3 or fewer times a month' and 'go to a Coffee House More than 3 times a month'\n",
    "df_coffee_coupons.loc[:, 'Group'] = df_coffee_coupons['CoffeeHouse'].apply(\n",
    "    lambda x: 'Group 1' if x in ['never', 'less1', '1~3'] else 'Group 2'\n",
    ")\n",
    "\n",
    "# Calculate the acceptance rate (Y = 1) for each group\n",
    "acceptance_rate = df_coffee_coupons.groupby('Group')['Y'].mean()\n",
    "\n",
    "# Print the acceptance rates\n",
    "print(\"Acceptance rates for each group:\")\n",
    "print(acceptance_rate)\n",
    "\n",
    "# Compare the acceptance rates and print the observation based on the comparison\n",
    "if acceptance_rate['Group 1'] > acceptance_rate['Group 2']:\n",
    "    print(\"\\nGroup 1 (drivers who go to a Coffee House 3 or fewer times a month) has a higher acceptance rate.\")\n",
    "elif acceptance_rate['Group 1'] < acceptance_rate['Group 2']:\n",
    "    print(\"\\nGroup 2 (drivers who go to a Coffee House more than 3 times a month) has a higher acceptance rate.\")\n",
    "else:\n",
    "    print(\"\\nThe acceptance rates for Group 1 and Group 2 are the same.\")"
   ]
  },
  {
   "cell_type": "markdown",
   "metadata": {},
   "source": [
    "4. Compare the acceptance rate between drivers who are over the age of 25 to the drivers who are 25 or younger. "
   ]
  },
  {
   "cell_type": "code",
   "execution_count": 156,
   "metadata": {},
   "outputs": [
    {
     "name": "stdout",
     "output_type": "stream",
     "text": [
      "Acceptance rates for each group:\n",
      "Group\n",
      "Group 1    0.481406\n",
      "Group 2    0.550096\n",
      "Name: Y, dtype: float64\n",
      "\n",
      "Group 2 (drivers who are 25 or younger) has a higher acceptance rate.\n"
     ]
    }
   ],
   "source": [
    "# Group 1: age over 25.\n",
    "# Group 2: age 25 or younger.\n",
    "\n",
    "# Grouping based on Coffee House visits and Age\n",
    "df_coffee_coupons.loc[:, 'Group'] = df_coffee_coupons.apply(\n",
    "    lambda row: 'Group 1' if row['age'] not in ['below21', '21'] else 'Group 2', axis=1\n",
    ")\n",
    "\n",
    "# Calculate the acceptance rate (Y = 1) for each group\n",
    "acceptance_rate = df_coffee_coupons.groupby('Group')['Y'].mean()\n",
    "\n",
    "# Print the acceptance rates\n",
    "print(\"Acceptance rates for each group:\")\n",
    "print(acceptance_rate)\n",
    "\n",
    "# Compare the acceptance rates and print the observation based on the comparison\n",
    "if acceptance_rate['Group 1'] > acceptance_rate['Group 2']:\n",
    "    print(\"\\nGroup 1 (drivers who are over 25) has a higher acceptance rate.\")\n",
    "elif acceptance_rate['Group 1'] < acceptance_rate['Group 2']:\n",
    "    print(\"\\nGroup 2 (drivers who are 25 or younger) has a higher acceptance rate.\")\n",
    "else:\n",
    "    print(\"\\nThe acceptance rates for Group 1 and Group 2 are the same.\")"
   ]
  },
  {
   "cell_type": "markdown",
   "metadata": {},
   "source": [
    "5. Compare the acceptance rate between drivers who go to a Coffee House more than once a month and are over the age of 25 to the drivers who go to a Coffee House more than once a month and are 25 or younger."
   ]
  },
  {
   "cell_type": "code",
   "execution_count": 160,
   "metadata": {},
   "outputs": [
    {
     "name": "stdout",
     "output_type": "stream",
     "text": [
      "Acceptance rates for each group:\n",
      "Group\n",
      "Excluded    0.350048\n",
      "Group 1     0.638439\n",
      "Group 2     0.712766\n",
      "Name: Y, dtype: float64\n",
      "\n",
      "Group 2 (drivers who go to a Coffee House more than once a month and are 25 or younger) has a higher acceptance rate.\n"
     ]
    }
   ],
   "source": [
    "# Group 1: Coffee House visits more than once AND age over 25.\n",
    "# Group 2: Coffee House visits more than once AND age 25 or younger.\n",
    "\n",
    "# Grouping based on Coffee House visits and Age\n",
    "df_coffee_coupons.loc[:, 'Group'] = df_coffee_coupons.apply(\n",
    "    lambda row: 'Group 1' if row['CoffeeHouse'] in ['1~3', '4~8', 'gt8'] and row['age'] not in ['below21', '21'] \n",
    "    else ('Group 2' if row['CoffeeHouse'] in ['1~3', '4~8', 'gt8'] and row['age'] in ['below21', '21'] else 'Excluded'), axis=1\n",
    ")\n",
    "\n",
    "\n",
    "# Calculate the acceptance rate (Y = 1) for each group\n",
    "acceptance_rate = df_coffee_coupons.groupby('Group')['Y'].mean()\n",
    "\n",
    "# Print the acceptance rates\n",
    "print(\"Acceptance rates for each group:\")\n",
    "print(acceptance_rate)\n",
    "\n",
    "# Compare the acceptance rates and print the observation based on the comparison\n",
    "if acceptance_rate['Group 1'] > acceptance_rate['Group 2']:\n",
    "    print(\"\\nGroup 1 (drivers who go to a Coffee House more than once a month and are over 25) has a higher acceptance rate.\")\n",
    "elif acceptance_rate['Group 1'] < acceptance_rate['Group 2']:\n",
    "    print(\"\\nGroup 2 (drivers who go to a Coffee House more than once a month and are 25 or younger) has a higher acceptance rate.\")\n",
    "else:\n",
    "    print(\"\\nThe acceptance rates for Group 1 and Group 2 are the same.\")"
   ]
  },
  {
   "cell_type": "markdown",
   "metadata": {},
   "source": [
    "6. Compare the acceptance rate between the drivers who go to Coffee House more than once a month and had passengers that were friends and the drivers who go to Coffee House more than once a month and had passengers that were not friends."
   ]
  },
  {
   "cell_type": "code",
   "execution_count": 169,
   "metadata": {},
   "outputs": [
    {
     "name": "stdout",
     "output_type": "stream",
     "text": [
      "Acceptance rates for each group:\n",
      "Group\n",
      "Excluded    0.350048\n",
      "Group 1     0.763245\n",
      "Group 2     0.613050\n",
      "Name: Y, dtype: float64\n",
      "\n",
      "Group 1 (drivers who go to a Coffee House more than once a month and passengers were friends) has a higher acceptance rate.\n"
     ]
    }
   ],
   "source": [
    "# Group 1: Coffee House visits more than once and passengers that were friends.\n",
    "# Group 2: Coffee House visits more than once and passengers that were not friends.\n",
    "\n",
    "# Grouping based on Coffee House visits and passengers\n",
    "df_coffee_coupons.loc[:, 'Group'] = df_coffee_coupons.apply(\n",
    "    lambda row: 'Group 1' if row['CoffeeHouse'] in ['1~3', '4~8', 'gt8'] and row['passanger'] == 'Friend(s)' \n",
    "    else ('Group 2' if row['CoffeeHouse'] in ['1~3', '4~8', 'gt8'] and row['passanger'] != 'Friend(s)' else 'Excluded'), axis=1\n",
    ")\n",
    "\n",
    "\n",
    "# Calculate the acceptance rate (Y = 1) for each group\n",
    "acceptance_rate = df_coffee_coupons.groupby('Group')['Y'].mean()\n",
    "\n",
    "# Print the acceptance rates\n",
    "print(\"Acceptance rates for each group:\")\n",
    "print(acceptance_rate)\n",
    "\n",
    "# Compare the acceptance rates and print the observation based on the comparison\n",
    "if acceptance_rate['Group 1'] > acceptance_rate['Group 2']:\n",
    "    print(\"\\nGroup 1 (drivers who go to a Coffee House more than once a month and passengers were friends) has a higher acceptance rate.\")\n",
    "elif acceptance_rate['Group 1'] < acceptance_rate['Group 2']:\n",
    "    print(\"\\nGroup 2 (drivers who go to a Coffee House more than once a month and passengers were not friends) has a higher acceptance rate.\")\n",
    "else:\n",
    "    print(\"\\nThe acceptance rates for Group 1 and Group 2 are the same.\")\n"
   ]
  },
  {
   "cell_type": "markdown",
   "metadata": {},
   "source": [
    "7.  Based on these observations, what do you hypothesize about drivers who accepted the Coffee House coupons?"
   ]
  },
  {
   "cell_type": "markdown",
   "metadata": {},
   "source": [
    "Drivers aged 25 or younger who visit a Coffee House more than once a month and were with friends are more likely to accept the coupon."
   ]
  }
 ],
 "metadata": {
  "colab": {
   "provenance": []
  },
  "kernelspec": {
   "display_name": "Python [conda env:base] *",
   "language": "python",
   "name": "conda-base-py"
  },
  "language_info": {
   "codemirror_mode": {
    "name": "ipython",
    "version": 3
   },
   "file_extension": ".py",
   "mimetype": "text/x-python",
   "name": "python",
   "nbconvert_exporter": "python",
   "pygments_lexer": "ipython3",
   "version": "3.12.7"
  }
 },
 "nbformat": 4,
 "nbformat_minor": 4
}
